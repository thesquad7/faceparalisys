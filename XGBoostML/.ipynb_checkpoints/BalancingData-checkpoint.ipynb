{
 "cells": [
  {
   "cell_type": "code",
   "execution_count": 1,
   "id": "0fff5d9d-b48e-4033-bc79-30f74da740bd",
   "metadata": {},
   "outputs": [],
   "source": [
    "import pandas as pd\n",
    "\n",
    "df = pd.read_csv('real_dataset_M_A_W_H.csv')\n",
    "\n",
    "df_label_0 = df[df['label'] == 0]\n",
    "df_label_1 = df[df['label'] == 1]"
   ]
  },
  {
   "cell_type": "code",
   "execution_count": 2,
   "id": "d26eb1bb-300a-4f1d-a222-50b58609f3d0",
   "metadata": {},
   "outputs": [
    {
     "name": "stdout",
     "output_type": "stream",
     "text": [
      "Balanced dataset saved with 5854 samples.\n"
     ]
    }
   ],
   "source": [
    "df_label_0_limited = df_label_0.sample(n=2927, random_state=42)\n",
    "df_balanced = pd.concat([df_label_0_limited, df_label_1])\n",
    "df_balanced = df_balanced.sample(frac=1, random_state=42).reset_index(drop=True)\n",
    "\n",
    "df_balanced.to_csv('landmarks_dataset_balanced_M_A_H_W.csv', index=False)\n",
    "print(f\"Balanced dataset saved with {len(df_balanced)} samples.\")"
   ]
  },
  {
   "cell_type": "code",
   "execution_count": null,
   "id": "525dd84a-1037-4fc0-9d06-2f5fd7b68ee2",
   "metadata": {},
   "outputs": [],
   "source": []
  }
 ],
 "metadata": {
  "kernelspec": {
   "display_name": "Python 3 (ipykernel)",
   "language": "python",
   "name": "python3"
  },
  "language_info": {
   "codemirror_mode": {
    "name": "ipython",
    "version": 3
   },
   "file_extension": ".py",
   "mimetype": "text/x-python",
   "name": "python",
   "nbconvert_exporter": "python",
   "pygments_lexer": "ipython3",
   "version": "3.12.4"
  }
 },
 "nbformat": 4,
 "nbformat_minor": 5
}
