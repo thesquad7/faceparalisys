{
 "cells": [
  {
   "cell_type": "code",
   "execution_count": 7,
   "id": "LijxrXqji5R0",
   "metadata": {
    "id": "LijxrXqji5R0"
   },
   "outputs": [
    {
     "name": "stdout",
     "output_type": "stream",
     "text": [
      "Requirement already satisfied: mediapipe in c:\\users\\filemon sitanggang\\anaconda3\\envs\\skripsi\\lib\\site-packages (0.10.14)\n",
      "Requirement already satisfied: absl-py in c:\\users\\filemon sitanggang\\anaconda3\\envs\\skripsi\\lib\\site-packages (from mediapipe) (2.1.0)\n",
      "Requirement already satisfied: attrs>=19.1.0 in c:\\users\\filemon sitanggang\\anaconda3\\envs\\skripsi\\lib\\site-packages (from mediapipe) (23.1.0)\n",
      "Requirement already satisfied: flatbuffers>=2.0 in c:\\users\\filemon sitanggang\\anaconda3\\envs\\skripsi\\lib\\site-packages (from mediapipe) (24.3.25)\n",
      "Requirement already satisfied: jax in c:\\users\\filemon sitanggang\\anaconda3\\envs\\skripsi\\lib\\site-packages (from mediapipe) (0.4.30)\n",
      "Requirement already satisfied: jaxlib in c:\\users\\filemon sitanggang\\anaconda3\\envs\\skripsi\\lib\\site-packages (from mediapipe) (0.4.30)\n",
      "Requirement already satisfied: matplotlib in c:\\users\\filemon sitanggang\\anaconda3\\envs\\skripsi\\lib\\site-packages (from mediapipe) (3.9.1)\n",
      "Requirement already satisfied: numpy in c:\\users\\filemon sitanggang\\anaconda3\\envs\\skripsi\\lib\\site-packages (from mediapipe) (2.0.0)\n",
      "Requirement already satisfied: opencv-contrib-python in c:\\users\\filemon sitanggang\\anaconda3\\envs\\skripsi\\lib\\site-packages (from mediapipe) (4.10.0.84)\n",
      "Requirement already satisfied: protobuf<5,>=4.25.3 in c:\\users\\filemon sitanggang\\anaconda3\\envs\\skripsi\\lib\\site-packages (from mediapipe) (4.25.3)\n",
      "Requirement already satisfied: sounddevice>=0.4.4 in c:\\users\\filemon sitanggang\\anaconda3\\envs\\skripsi\\lib\\site-packages (from mediapipe) (0.4.7)\n",
      "Requirement already satisfied: CFFI>=1.0 in c:\\users\\filemon sitanggang\\anaconda3\\envs\\skripsi\\lib\\site-packages (from sounddevice>=0.4.4->mediapipe) (1.16.0)\n",
      "Requirement already satisfied: ml-dtypes>=0.2.0 in c:\\users\\filemon sitanggang\\anaconda3\\envs\\skripsi\\lib\\site-packages (from jax->mediapipe) (0.4.0)\n",
      "Requirement already satisfied: opt-einsum in c:\\users\\filemon sitanggang\\anaconda3\\envs\\skripsi\\lib\\site-packages (from jax->mediapipe) (3.3.0)\n",
      "Requirement already satisfied: scipy>=1.9 in c:\\users\\filemon sitanggang\\anaconda3\\envs\\skripsi\\lib\\site-packages (from jax->mediapipe) (1.14.0)\n",
      "Requirement already satisfied: contourpy>=1.0.1 in c:\\users\\filemon sitanggang\\anaconda3\\envs\\skripsi\\lib\\site-packages (from matplotlib->mediapipe) (1.2.1)\n",
      "Requirement already satisfied: cycler>=0.10 in c:\\users\\filemon sitanggang\\anaconda3\\envs\\skripsi\\lib\\site-packages (from matplotlib->mediapipe) (0.12.1)\n",
      "Requirement already satisfied: fonttools>=4.22.0 in c:\\users\\filemon sitanggang\\anaconda3\\envs\\skripsi\\lib\\site-packages (from matplotlib->mediapipe) (4.53.1)\n",
      "Requirement already satisfied: kiwisolver>=1.3.1 in c:\\users\\filemon sitanggang\\anaconda3\\envs\\skripsi\\lib\\site-packages (from matplotlib->mediapipe) (1.4.5)\n",
      "Requirement already satisfied: packaging>=20.0 in c:\\users\\filemon sitanggang\\anaconda3\\envs\\skripsi\\lib\\site-packages (from matplotlib->mediapipe) (24.1)\n",
      "Requirement already satisfied: pillow>=8 in c:\\users\\filemon sitanggang\\anaconda3\\envs\\skripsi\\lib\\site-packages (from matplotlib->mediapipe) (10.4.0)\n",
      "Requirement already satisfied: pyparsing>=2.3.1 in c:\\users\\filemon sitanggang\\anaconda3\\envs\\skripsi\\lib\\site-packages (from matplotlib->mediapipe) (3.1.2)\n",
      "Requirement already satisfied: python-dateutil>=2.7 in c:\\users\\filemon sitanggang\\anaconda3\\envs\\skripsi\\lib\\site-packages (from matplotlib->mediapipe) (2.9.0.post0)\n",
      "Requirement already satisfied: pycparser in c:\\users\\filemon sitanggang\\anaconda3\\envs\\skripsi\\lib\\site-packages (from CFFI>=1.0->sounddevice>=0.4.4->mediapipe) (2.21)\n",
      "Requirement already satisfied: six>=1.5 in c:\\users\\filemon sitanggang\\anaconda3\\envs\\skripsi\\lib\\site-packages (from python-dateutil>=2.7->matplotlib->mediapipe) (1.16.0)\n",
      "Note: you may need to restart the kernel to use updated packages.\n"
     ]
    }
   ],
   "source": [
    "pip install mediapipe"
   ]
  },
  {
   "cell_type": "code",
   "execution_count": 8,
   "id": "8f88fa11-04f4-46a5-9a29-8c30d8259b94",
   "metadata": {},
   "outputs": [
    {
     "name": "stdout",
     "output_type": "stream",
     "text": [
      "Requirement already satisfied: openpyxl in c:\\users\\filemon sitanggang\\anaconda3\\envs\\skripsi\\lib\\site-packages (3.1.5)\n",
      "Requirement already satisfied: et-xmlfile in c:\\users\\filemon sitanggang\\anaconda3\\envs\\skripsi\\lib\\site-packages (from openpyxl) (1.1.0)\n",
      "Note: you may need to restart the kernel to use updated packages.\n"
     ]
    }
   ],
   "source": [
    "pip install openpyxl"
   ]
  },
  {
   "cell_type": "code",
   "execution_count": 9,
   "id": "5cb42de0-8e67-4671-a196-7806c1b7972c",
   "metadata": {},
   "outputs": [
    {
     "name": "stdout",
     "output_type": "stream",
     "text": [
      "Requirement already satisfied: scikit-learn in c:\\users\\filemon sitanggang\\anaconda3\\envs\\skripsi\\lib\\site-packages (1.5.1)\n",
      "Requirement already satisfied: numpy>=1.19.5 in c:\\users\\filemon sitanggang\\anaconda3\\envs\\skripsi\\lib\\site-packages (from scikit-learn) (2.0.0)\n",
      "Requirement already satisfied: scipy>=1.6.0 in c:\\users\\filemon sitanggang\\anaconda3\\envs\\skripsi\\lib\\site-packages (from scikit-learn) (1.14.0)\n",
      "Requirement already satisfied: joblib>=1.2.0 in c:\\users\\filemon sitanggang\\anaconda3\\envs\\skripsi\\lib\\site-packages (from scikit-learn) (1.4.2)\n",
      "Requirement already satisfied: threadpoolctl>=3.1.0 in c:\\users\\filemon sitanggang\\anaconda3\\envs\\skripsi\\lib\\site-packages (from scikit-learn) (3.5.0)\n",
      "Note: you may need to restart the kernel to use updated packages.\n"
     ]
    }
   ],
   "source": [
    "pip install scikit-learn"
   ]
  },
  {
   "cell_type": "code",
   "execution_count": 10,
   "id": "cc0462cc-6934-4a76-a313-47d6b85e1580",
   "metadata": {},
   "outputs": [
    {
     "name": "stdout",
     "output_type": "stream",
     "text": [
      "Requirement already satisfied: seaborn in c:\\users\\filemon sitanggang\\anaconda3\\envs\\skripsi\\lib\\site-packages (0.13.2)\n",
      "Requirement already satisfied: numpy!=1.24.0,>=1.20 in c:\\users\\filemon sitanggang\\anaconda3\\envs\\skripsi\\lib\\site-packages (from seaborn) (2.0.0)\n",
      "Requirement already satisfied: pandas>=1.2 in c:\\users\\filemon sitanggang\\anaconda3\\envs\\skripsi\\lib\\site-packages (from seaborn) (2.2.2)\n",
      "Requirement already satisfied: matplotlib!=3.6.1,>=3.4 in c:\\users\\filemon sitanggang\\anaconda3\\envs\\skripsi\\lib\\site-packages (from seaborn) (3.9.1)\n",
      "Requirement already satisfied: contourpy>=1.0.1 in c:\\users\\filemon sitanggang\\anaconda3\\envs\\skripsi\\lib\\site-packages (from matplotlib!=3.6.1,>=3.4->seaborn) (1.2.1)\n",
      "Requirement already satisfied: cycler>=0.10 in c:\\users\\filemon sitanggang\\anaconda3\\envs\\skripsi\\lib\\site-packages (from matplotlib!=3.6.1,>=3.4->seaborn) (0.12.1)\n",
      "Requirement already satisfied: fonttools>=4.22.0 in c:\\users\\filemon sitanggang\\anaconda3\\envs\\skripsi\\lib\\site-packages (from matplotlib!=3.6.1,>=3.4->seaborn) (4.53.1)\n",
      "Requirement already satisfied: kiwisolver>=1.3.1 in c:\\users\\filemon sitanggang\\anaconda3\\envs\\skripsi\\lib\\site-packages (from matplotlib!=3.6.1,>=3.4->seaborn) (1.4.5)\n",
      "Requirement already satisfied: packaging>=20.0 in c:\\users\\filemon sitanggang\\anaconda3\\envs\\skripsi\\lib\\site-packages (from matplotlib!=3.6.1,>=3.4->seaborn) (24.1)\n",
      "Requirement already satisfied: pillow>=8 in c:\\users\\filemon sitanggang\\anaconda3\\envs\\skripsi\\lib\\site-packages (from matplotlib!=3.6.1,>=3.4->seaborn) (10.4.0)\n",
      "Requirement already satisfied: pyparsing>=2.3.1 in c:\\users\\filemon sitanggang\\anaconda3\\envs\\skripsi\\lib\\site-packages (from matplotlib!=3.6.1,>=3.4->seaborn) (3.1.2)\n",
      "Requirement already satisfied: python-dateutil>=2.7 in c:\\users\\filemon sitanggang\\anaconda3\\envs\\skripsi\\lib\\site-packages (from matplotlib!=3.6.1,>=3.4->seaborn) (2.9.0.post0)\n",
      "Requirement already satisfied: pytz>=2020.1 in c:\\users\\filemon sitanggang\\anaconda3\\envs\\skripsi\\lib\\site-packages (from pandas>=1.2->seaborn) (2024.1)\n",
      "Requirement already satisfied: tzdata>=2022.7 in c:\\users\\filemon sitanggang\\anaconda3\\envs\\skripsi\\lib\\site-packages (from pandas>=1.2->seaborn) (2024.1)\n",
      "Requirement already satisfied: six>=1.5 in c:\\users\\filemon sitanggang\\anaconda3\\envs\\skripsi\\lib\\site-packages (from python-dateutil>=2.7->matplotlib!=3.6.1,>=3.4->seaborn) (1.16.0)\n",
      "Note: you may need to restart the kernel to use updated packages.\n"
     ]
    }
   ],
   "source": [
    "pip install seaborn"
   ]
  },
  {
   "cell_type": "code",
   "execution_count": 11,
   "id": "322yYTCQ1T6cqW0v14hptfAu",
   "metadata": {
    "executionInfo": {
     "elapsed": 32082,
     "status": "ok",
     "timestamp": 1720495977845,
     "user": {
      "displayName": "",
      "userId": ""
     },
     "user_tz": -420
    },
    "id": "322yYTCQ1T6cqW0v14hptfAu",
    "tags": []
   },
   "outputs": [],
   "source": [
    "import mediapipe as mp\n",
    "import cv2\n",
    "import os\n",
    "import numpy as np\n",
    "import pandas as pd\n",
    "from sklearn.model_selection import train_test_split, GridSearchCV\n",
    "from sklearn.svm import SVC\n",
    "from sklearn.neighbors import KNeighborsClassifier\n",
    "from sklearn.metrics import accuracy_score\n",
    "import matplotlib.pyplot as plt\n",
    "import seaborn as sns"
   ]
  },
  {
   "cell_type": "code",
   "execution_count": 12,
   "id": "2L13vqJFjgVM",
   "metadata": {
    "executionInfo": {
     "elapsed": 212,
     "status": "ok",
     "timestamp": 1720496848138,
     "user": {
      "displayName": "",
      "userId": ""
     },
     "user_tz": -420
    },
    "id": "2L13vqJFjgVM"
   },
   "outputs": [],
   "source": [
    "mp_face_mesh = mp.solutions.face_mesh\n",
    "face_mesh = mp_face_mesh.FaceMesh(static_image_mode=True)\n",
    "def get_unique(connections):\n",
    "    indices = set()\n",
    "    for connection in connections:\n",
    "        indices.update(connection)\n",
    "    return sorted(indices)\n",
    "peta_wajah = mp_face_mesh.FACEMESH_FACE_OVAL\n",
    "peta_mulut = mp_face_mesh.FACEMESH_LIPS\n",
    "peta_mata_luar = mp_face_mesh.FACEMESH_LEFT_EYE | mp_face_mesh.FACEMESH_RIGHT_EYE\n",
    "peta_alis = mp_face_mesh.FACEMESH_LEFT_EYEBROW | mp_face_mesh.FACEMESH_RIGHT_EYEBROW\n",
    "peta_mata_keseluruhan = peta_mata_luar\n",
    "peta_wajah_keseluruhan = mp_face_mesh.FACEMESH_TESSELATION\n",
    "peta_hidung = mp_face_mesh.FACEMESH_NOSE\n",
    "\n",
    "peta_point4a = peta_hidung | peta_mata_luar | peta_alis | peta_mulut\n",
    "peta_point4b = peta_wajah | peta_mata_luar | peta_alis | peta_mulut\n",
    "peta_point4c = peta_wajah | peta_mata_luar | peta_hidung | peta_mulut\n",
    "peta_point4d = peta_wajah | peta_alis | peta_hidung | peta_mulut\n",
    "\n",
    "point4d = get_unique(peta_point4d)\n",
    "point4c = get_unique(peta_point4c)\n",
    "point4b = get_unique(peta_point4b)\n",
    "point4a = get_unique(peta_point4a)\n",
    "hidung = get_unique(peta_hidung)\n",
    "mulut = get_unique(peta_mulut) \n",
    "wajah = get_unique(peta_wajah)\n",
    "mata_luar = get_unique(peta_mata_luar)\n",
    "alis = get_unique(peta_alis)\n",
    "mata_keseluruhan = get_unique(peta_mata_keseluruhan)\n",
    "wajah_penuh = get_unique(peta_wajah_keseluruhan)\n"
   ]
  },
  {
   "cell_type": "code",
   "execution_count": 29,
   "id": "7ad85789-f209-4cfb-ab13-376dbf5ca579",
   "metadata": {},
   "outputs": [],
   "source": [
    "def extract_landmarks(image_path):\n",
    "    image = cv2.imread(image_path)\n",
    "    rgb_image = cv2.cvtColor(image, cv2.COLOR_BGR2RGB)\n",
    "    results = face_mesh.process(rgb_image)\n",
    "    #M_A_W_H\n",
    "    model = list(point4d)\n",
    "    #print(model)\n",
    "    if not results.multi_face_landmarks:\n",
    "        return None\n",
    "    landmarks = []\n",
    "    height, width, _ = image.shape\n",
    "    for face_landmarks in results.multi_face_landmarks:\n",
    "        tanda = face_landmarks.landmark\n",
    "        for index in model:\n",
    "        # for lm in face_landmarks.landmark:\n",
    "            x = int(tanda[index].x * width)\n",
    "            y = int(tanda[index].y * height)\n",
    "            landmarks.append([x,y])\n",
    "    return np.array(landmarks).flatten()"
   ]
  },
  {
   "cell_type": "code",
   "execution_count": 30,
   "id": "GxmmEjDqkpnz",
   "metadata": {
    "executionInfo": {
     "elapsed": 168,
     "status": "ok",
     "timestamp": 1720496851181,
     "user": {
      "displayName": "",
      "userId": ""
     },
     "user_tz": -420
    },
    "id": "GxmmEjDqkpnz"
   },
   "outputs": [],
   "source": [
    "data = []\n",
    "nondata =[]\n",
    "path_img = \"images\"\n",
    "image_paths= os.listdir(path_img)\n",
    "#print(image_paths)\n",
    "i = 0\n",
    "for img_path in image_paths:\n",
    "    full_img_path = os.path.join(path_img, img_path)\n",
    "    lm = extract_landmarks(full_img_path)\n",
    "    if lm is not None:\n",
    "        data.append(lm)\n",
    "    else:\n",
    "        nondata.append(i)\n",
    "    i=i+1"
   ]
  },
  {
   "cell_type": "code",
   "execution_count": 31,
   "id": "50f2fb5b-3f66-4148-90d9-a214e6b0df36",
   "metadata": {},
   "outputs": [
    {
     "name": "stdout",
     "output_type": "stream",
     "text": [
      "[1852, 1870, 1871, 1874, 1889, 1899, 1901, 1909, 1912, 1913, 1914, 1916, 1918, 1919, 1924, 1936, 1941, 1957, 1979, 1993, 2002, 2023, 2040, 2059, 2060, 2152, 2154, 2155, 2223, 2242, 2246, 2252, 2262, 2269, 2271, 2275, 2289, 2293, 2294, 2326, 2330, 2333, 2351, 2355, 2356, 2359, 2411, 2416, 2418, 2422, 2429, 2436, 2441, 2442, 2451, 2455, 2457, 2464, 2482, 2487, 2503, 2505, 2521, 2537, 2544, 2558, 2562, 2563, 2565, 2570, 2575, 2577, 2579, 2604, 2612, 2616, 2622, 2623, 2648, 2657, 2668, 2682, 2697, 2698, 2700, 2701, 2702, 2709, 2715, 2721, 2722, 2724, 2725, 2733, 2737, 2738, 2746, 2754, 2758, 2766, 2767, 2769, 2781, 2798, 2799, 2807, 2811, 2816, 2817, 2823, 2916, 2917, 3190, 3191, 3197, 3199, 3520, 3521, 3783, 4087, 4090, 4091, 4092, 4093, 4094, 4098, 4099, 4101, 4102, 4103, 4104, 4105, 4106, 4107, 4108, 4109, 4116, 4117, 4121, 4123, 4125, 4126, 4127, 4128, 4129, 4130, 4131, 4132, 4133, 4137, 4138, 4139, 4141, 4142, 4143, 4144, 4145, 4146, 4147, 4149, 4150, 4151, 4157, 4159, 4160, 4161, 4164, 4165, 4183, 4188, 4190, 4191, 4192, 4193, 4194, 4195, 4196, 4197, 4199, 4201, 4202, 4203, 4204, 4205, 4206, 4207, 4208, 4210, 4224, 4225, 4226, 4227, 4228, 4229, 4230, 4231, 4239, 4242, 4243, 4254, 4256, 4266, 4272, 4278, 4279, 4281, 4282, 4283, 4284, 4285, 4286, 4289, 4290, 4291, 4292, 4344, 4345, 4375, 4404, 4470, 4523, 4615, 4617, 4657, 4658, 4659, 4689, 4726, 4728, 4868, 4869, 4870, 4879, 4955, 4957, 5132, 5140, 5187, 5188, 5199, 5200, 5204, 5205, 5304, 5309, 5311, 5312, 5314, 5321, 5322, 5323, 5410, 5411, 5412, 5769, 5770, 5807, 5997, 6042, 6268, 6370, 6406, 6407, 6578, 6752, 7024, 7025, 7242, 7243, 7244, 7255, 7256, 7260, 7326, 7365, 7368, 7370, 7373, 7374, 7376, 7380, 7381, 7383, 7385, 7387, 8313, 9488, 9563, 10385, 10386, 10393, 10395, 10436, 10544, 10581, 10648, 10653, 10654, 10655, 10675, 10712, 10723, 10746, 10752, 10771, 10777, 10809, 10825, 10846, 10940, 10941, 11013, 11156, 11408, 11764, 11906, 12155, 12366, 12599, 12760, 13151, 13152, 13193, 13517, 13540, 13597, 13614, 13615, 13616]\n"
     ]
    }
   ],
   "source": [
    "print(nondata)"
   ]
  },
  {
   "cell_type": "code",
   "execution_count": 32,
   "id": "64943731-9bc0-4cc1-930a-f82f5739eaed",
   "metadata": {},
   "outputs": [],
   "source": [
    "def extract_lable(labels,path,nondata):\n",
    "    l = []\n",
    "    i_L = 0\n",
    "    for label in labels :\n",
    "        label = os.path.join(path,label)\n",
    "        with open(label,\"r\") as data:\n",
    "            readdata= data.readlines()\n",
    "            obj = readdata[0][0]\n",
    "            if nondata.count(i_L) == 0:\n",
    "                l.append(obj)\n",
    "        i_L = i_L+1\n",
    "    return(l)\n",
    "    \n",
    "# # y = list(zip(*y))\n",
    "# y = np.array(y)\n",
    "# np.transpose(y)\n",
    "# print(y)"
   ]
  },
  {
   "cell_type": "code",
   "execution_count": 33,
   "id": "c38f4ccc-f337-488b-b417-9a0879b87d06",
   "metadata": {},
   "outputs": [
    {
     "name": "stdout",
     "output_type": "stream",
     "text": [
      "13780\n",
      "13780\n"
     ]
    }
   ],
   "source": [
    "path = \"labels\"\n",
    "filenames= os.listdir(path)\n",
    "labels = extract_lable(filenames,path,nondata)\n",
    "print(len(data))\n",
    "print(len(labels))\n",
    "# X = pd.read_csv('landmarks_dataset(5).csv')\n",
    "# X.head()"
   ]
  },
  {
   "cell_type": "code",
   "execution_count": 34,
   "id": "547fb85b-9428-42d5-8c63-30a60516dd45",
   "metadata": {},
   "outputs": [],
   "source": [
    "X = np.array(data)\n",
    "y = np.array(labels)\n",
    "# print(y)\n",
    " # print(y.size)\n",
    "\n",
    "df = pd.DataFrame(X)\n",
    "df['label'] = y\n",
    "df.to_csv('landmarks_dataset_M_A_W_H.csv', index=False)"
   ]
  },
  {
   "cell_type": "code",
   "execution_count": 35,
   "id": "QHh6GcrhlrAw",
   "metadata": {
    "id": "QHh6GcrhlrAw"
   },
   "outputs": [],
   "source": [
    "X_train, X_test, y_train, y_test = train_test_split(X, y, test_size=0.2, random_state=42)\n",
    "\n",
    "param_grid_svc = {\n",
    "    'C': [0.1, 1, 10],\n",
    "    'kernel': ['linear', 'poly', 'rbf']\n",
    "}\n",
    "\n",
    "param_grid_knn = {\n",
    "    'n_neighbors': [3, 5, 7],\n",
    "    'metric':['euclidean', 'manhattan', 'minkowski'],\n",
    "    'weights': ['uniform', 'distance']\n",
    "}\n",
    "\n",
    "svc = SVC()\n",
    "knn = KNeighborsClassifier()\n",
    "\n",
    "\n",
    "models = {\n",
    "    'SVC': (svc, param_grid_svc),\n",
    "    'KNN': (knn, param_grid_knn)\n",
    "}\n"
   ]
  },
  {
   "cell_type": "code",
   "execution_count": 36,
   "id": "CrnZidxfm2y1",
   "metadata": {
    "id": "CrnZidxfm2y1",
    "scrolled": true
   },
   "outputs": [
    {
     "name": "stdout",
     "output_type": "stream",
     "text": [
      "Best parameters for SVC: {'C': 0.1, 'kernel': 'linear'}\n",
      "Best cross-validation accuracy for SVC: 0.8400761493567288\n",
      "Best parameters for KNN: {'metric': 'manhattan', 'n_neighbors': 3, 'weights': 'distance'}\n",
      "Best cross-validation accuracy for KNN: 0.927611546137987\n"
     ]
    }
   ],
   "source": [
    "results = []\n",
    "best_models = {}\n",
    "\n",
    "for model_name, (model, param_grid) in models.items():\n",
    "    grid_search = GridSearchCV(estimator=model, param_grid=param_grid, cv=10, scoring='accuracy')\n",
    "    grid_search.fit(X_train, y_train)\n",
    "\n",
    "    best_models[model_name] = grid_search.best_estimator_\n",
    "\n",
    "    # Determine the number of splits\n",
    "    num_splits = len([key for key in grid_search.cv_results_.keys() if key.startswith('split') and key.endswith('_test_score')])\n",
    "\n",
    "    for i in range(len(grid_search.cv_results_['mean_test_score'])):\n",
    "        params = grid_search.cv_results_['params'][i]\n",
    "        mean_score = grid_search.cv_results_['mean_test_score'][i]\n",
    "        mean_fit_time = grid_search.cv_results_['mean_fit_time'][i]\n",
    "        mean_score_time = grid_search.cv_results_['mean_score_time'][i]\n",
    "        total_training_time = mean_fit_time + mean_score_time\n",
    "\n",
    "        # Collect split scores\n",
    "        split_scores = {f'split{split_idx}_test_score': grid_search.cv_results_[f'split{split_idx}_test_score'][i] for split_idx in range(num_splits)}\n",
    "\n",
    "        result = {\n",
    "            'model': model_name,\n",
    "            'params': params,\n",
    "            'mean_test_score': mean_score,\n",
    "            'mean_fit_time': mean_fit_time,\n",
    "            'mean_score_time': mean_score_time,\n",
    "            'total_training_time': total_training_time\n",
    "        }\n",
    "        result.update(split_scores)\n",
    "\n",
    "        results.append(result)\n",
    "\n",
    "    print(f\"Best parameters for {model_name}: {grid_search.best_params_}\")\n",
    "    print(f\"Best cross-validation accuracy for {model_name}: {grid_search.best_score_}\")\n",
    "\n",
    "results_df = pd.DataFrame(results)\n",
    "results_df.to_excel('grid_search_results_M_A_W_H.xlsx', index=False)\n"
   ]
  },
  {
   "cell_type": "code",
   "execution_count": null,
   "id": "SvPt9ETZm-zq",
   "metadata": {
    "id": "SvPt9ETZm-zq"
   },
   "outputs": [],
   "source": [
    "test_results = []\n",
    "\n",
    "for model_name, model in best_models.items():\n",
    "    y_pred = model.predict(X_test)\n",
    "    accuracy = accuracy_score(y_test, y_pred)\n",
    "    test_results.append({\n",
    "        'model': model_name,\n",
    "        'accuracy': accuracy\n",
    "    })\n",
    "    print(f\"Test accuracy for {model_name}: {accuracy}\")\n",
    "\n",
    "test_results_df = pd.DataFrame(test_results)\n",
    "test_results_df.to_excel('test_results.xlsx', index=False)\n",
    "\n",
    "plt.figure(figsize=(14, 7))\n",
    "sns.lineplot(data=results_df, x='params', y='mean_test_score', hue='model', marker='o')\n",
    "plt.xticks(rotation=90)\n",
    "plt.title('Grid Search Mean Test Scores')\n",
    "plt.xlabel('Hyperparameters')\n",
    "plt.ylabel('Mean Test Score')\n",
    "plt.legend(title='Model')\n",
    "plt.tight_layout()\n",
    "plt.savefig('grid_search_results.png')\n",
    "plt.show()\n",
    "\n",
    "plt.figure(figsize=(7, 5))\n",
    "sns.barplot(data=test_results_df, x='model', y='accuracy', palette='viridis')\n",
    "plt.title('Test Accuracies of Best Models')\n",
    "plt.xlabel('Model')\n",
    "plt.ylabel('Accuracy')\n",
    "plt.ylim(0, 1)\n",
    "plt.tight_layout()\n",
    "plt.savefig('test_results.png')\n",
    "plt.show()"
   ]
  }
 ],
 "metadata": {
  "colab": {
   "name": "Grid Search For ML",
   "provenance": []
  },
  "kernelspec": {
   "display_name": "Python 3 (ipykernel)",
   "language": "python",
   "name": "python3"
  },
  "language_info": {
   "codemirror_mode": {
    "name": "ipython",
    "version": 3
   },
   "file_extension": ".py",
   "mimetype": "text/x-python",
   "name": "python",
   "nbconvert_exporter": "python",
   "pygments_lexer": "ipython3",
   "version": "3.12.4"
  }
 },
 "nbformat": 4,
 "nbformat_minor": 5
}
