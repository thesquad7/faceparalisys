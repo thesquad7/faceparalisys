{
 "cells": [
  {
   "cell_type": "code",
   "execution_count": 3,
   "id": "ee11dbff-8acc-4307-932e-055898cf373f",
   "metadata": {},
   "outputs": [],
   "source": [
    "import pandas as pd\n",
    "import time\n",
    "from sklearn.model_selection import train_test_split, GridSearchCV\n",
    "from sklearn.svm import SVC\n",
    "import joblib\n",
    "from sklearn.neighbors import KNeighborsClassifier\n",
    "from sklearn.ensemble import RandomForestClassifier\n",
    "from xgboost import XGBClassifier\n",
    "from sklearn.linear_model import LogisticRegression\n",
    "from sklearn.metrics import make_scorer, precision_score, recall_score, accuracy_score\n",
    "import matplotlib.pyplot as plt\n",
    "from datetime import datetime"
   ]
  },
  {
   "cell_type": "code",
   "execution_count": 13,
   "id": "a3fca03a-67d0-4cee-b5a3-4e3a91551a73",
   "metadata": {},
   "outputs": [
    {
     "name": "stdout",
     "output_type": "stream",
     "text": [
      "      Unnamed: 0    0    1    2    3    4    5    6    7    8  ...  231  232  \\\n",
      "0           2684  398  334  407  238  397  270  407  210  402  ...  412  483   \n",
      "1            665  326  386  319  296  321  324  317  268  316  ...  504  441   \n",
      "2            291  320  399  324  307  324  335  325  279  326  ...  505  426   \n",
      "3          13742  304  400  308  314  309  340  309  285  310  ...  523  411   \n",
      "4           8797  304  387  303  275  304  311  304  246  306  ...  465  427   \n",
      "...          ...  ...  ...  ...  ...  ...  ...  ...  ...  ...  ...  ...  ...   \n",
      "5849        1953  338  309  345  219  341  257  346  196  347  ...  405  452   \n",
      "5850       11690  304  364  311  261  310  299  312  232  314  ...  461  394   \n",
      "5851       11788  349  372  341  285  342  313  339  258  335  ...  472  439   \n",
      "5852       12121  336  383  331  280  333  312  330  251  328  ...  459  440   \n",
      "5853       10678  307  372  316  257  314  298  318  227  320  ...  461  415   \n",
      "\n",
      "      233  234  235  236  237  238  239  label  \n",
      "0     368  457  372  452  215  612  190      1  \n",
      "1     412  414  417  369  270  627  202      0  \n",
      "2     429  400  433  374  283  638  212      1  \n",
      "3     433  385  436  358  289  639  208      0  \n",
      "4     412  401  417  360  253  624  227      0  \n",
      "...   ...  ...  ...  ...  ...  ...  ...    ...  \n",
      "5849  345  428  351  394  196  614  196      1  \n",
      "5850  416  370  418  361  241  634  239      1  \n",
      "5851  404  413  409  385  260  611  204      1  \n",
      "5852  413  414  418  385  251  648  183      1  \n",
      "5853  416  391  418  369  237  635  244      0  \n",
      "\n",
      "[5854 rows x 189 columns]\n"
     ]
    }
   ],
   "source": [
    "df = pd.read_csv('landmarks_dataset_balanced__M_A_W_H.csv')\n",
    "print(df)\n",
    "df = df.loc[:, ~df.columns.str.contains('^Unnamed')]\n",
    "X = df.drop('label', axis=1).values\n",
    "y = df['label'].values"
   ]
  },
  {
   "cell_type": "code",
   "execution_count": 14,
   "id": "ad8801b6-2595-4c01-bd2f-f00c6682f98c",
   "metadata": {},
   "outputs": [
    {
     "name": "stdout",
     "output_type": "stream",
     "text": [
      "        0    1    2    3    4    5    6    7    8    9  ...  231  232  233  \\\n",
      "0     398  334  407  238  397  270  407  210  402  175  ...  412  483  368   \n",
      "1     326  386  319  296  321  324  317  268  316  232  ...  504  441  412   \n",
      "2     320  399  324  307  324  335  325  279  326  242  ...  505  426  429   \n",
      "3     304  400  308  314  309  340  309  285  310  246  ...  523  411  433   \n",
      "4     304  387  303  275  304  311  304  246  306  211  ...  465  427  412   \n",
      "...   ...  ...  ...  ...  ...  ...  ...  ...  ...  ...  ...  ...  ...  ...   \n",
      "5849  338  309  345  219  341  257  346  196  347  171  ...  405  452  345   \n",
      "5850  304  364  311  261  310  299  312  232  314  198  ...  461  394  416   \n",
      "5851  349  372  341  285  342  313  339  258  335  223  ...  472  439  404   \n",
      "5852  336  383  331  280  333  312  330  251  328  214  ...  459  440  413   \n",
      "5853  307  372  316  257  314  298  318  227  320  192  ...  461  415  416   \n",
      "\n",
      "      234  235  236  237  238  239  label  \n",
      "0     457  372  452  215  612  190      1  \n",
      "1     414  417  369  270  627  202      0  \n",
      "2     400  433  374  283  638  212      1  \n",
      "3     385  436  358  289  639  208      0  \n",
      "4     401  417  360  253  624  227      0  \n",
      "...   ...  ...  ...  ...  ...  ...    ...  \n",
      "5849  428  351  394  196  614  196      1  \n",
      "5850  370  418  361  241  634  239      1  \n",
      "5851  413  409  385  260  611  204      1  \n",
      "5852  414  418  385  251  648  183      1  \n",
      "5853  391  418  369  237  635  244      0  \n",
      "\n",
      "[5854 rows x 188 columns]\n",
      "[1 0 1 ... 1 1 0]\n",
      "5854\n",
      "5854\n",
      "187\n"
     ]
    }
   ],
   "source": [
    "print(df)\n",
    "print(y)\n",
    "print(len(y))\n",
    "print(len(X))\n",
    "print(len(X[0]))"
   ]
  },
  {
   "cell_type": "code",
   "execution_count": 9,
   "id": "69bc980c-e9c7-4262-89a0-5f8be1ddc143",
   "metadata": {},
   "outputs": [],
   "source": [
    "X_train, X_test, y_train, y_test = train_test_split(X, y, test_size=0.2, random_state=42)\n",
    "models = {\n",
    "    'XGBoost': (XGBClassifier(eval_metric='logloss'), {\n",
    "        'n_estimators': [100, 200, 300],\n",
    "        'learning_rate': [0.01, 0.1, 0.2],\n",
    "        'max_depth': [3, 5, 7]\n",
    "    }),\n",
    "    \n",
    "}\n",
    "scoring = {\n",
    "    'accuracy': 'accuracy',\n",
    "    'precision': make_scorer(precision_score, average='weighted'),\n",
    "    'recall': make_scorer(recall_score, average='weighted')\n",
    "}"
   ]
  },
  {
   "cell_type": "code",
   "execution_count": 10,
   "id": "93661319-7c33-4d97-b338-42033f4b25ba",
   "metadata": {},
   "outputs": [
    {
     "name": "stdout",
     "output_type": "stream",
     "text": [
      "Best parameters for KNN: {'metric': 'euclidean', 'n_neighbors': 3, 'weights': 'distance'}\n",
      "Best cross-validation accuracy for KNN: 0.8819159696025368\n",
      "Model saved as TrainnedModel/trained_KNN_model_metric=euclidean_n_neighbors=3_weights=distance.joblib\n",
      "Best parameters for RandomForest: {'max_depth': None, 'min_samples_split': 2, 'n_estimators': 300}\n",
      "Best cross-validation accuracy for RandomForest: 0.8872528383722413\n",
      "Model saved as TrainnedModel/trained_RandomForest_model_max_depth=None_min_samples_split=2_n_estimators=300.joblib\n",
      "Best parameters for XGBoost: {'learning_rate': 0.2, 'max_depth': 7, 'n_estimators': 300}\n",
      "Best cross-validation accuracy for XGBoost: 0.8968591110382155\n",
      "Model saved as TrainnedModel/trained_XGBoost_model_learning_rate=0.2_max_depth=7_n_estimators=300.joblib\n",
      "Elapsed time: 558.0631105899811 seconds\n",
      "Locals Testing Session\n"
     ]
    }
   ],
   "source": [
    "results = []\n",
    "best_models = {}\n",
    "start_time = time.time()\n",
    "\n",
    "def create_filename_from_params(model_name, params):\n",
    "    params_str = '_'.join([f\"{key}={val}\" for key, val in params.items()])\n",
    "    filename = f\"trained_{model_name}_model_{params_str}.joblib\"\n",
    "    filename = filename.replace(':', '-').replace(' ', '_').replace(',', '')\n",
    "    return filename\n",
    "\n",
    "for model_name, (model, param_grid) in models.items():\n",
    "    grid_search = GridSearchCV(estimator=model, param_grid=param_grid, cv=10, scoring=scoring, refit='accuracy', return_train_score=True, n_jobs= -1)\n",
    "    grid_search.fit(X_train, y_train)\n",
    "\n",
    "    best_models[model_name] = grid_search.best_estimator_\n",
    "\n",
    "    num_splits = len([key for key in grid_search.cv_results_.keys() if key.startswith('split') and key.endswith('_test_accuracy')])\n",
    "\n",
    "    for i in range(len(grid_search.cv_results_['mean_test_accuracy'])):\n",
    "        params = grid_search.cv_results_['params'][i]\n",
    "        mean_accuracy = grid_search.cv_results_['mean_test_accuracy'][i]\n",
    "        mean_precision = grid_search.cv_results_['mean_test_precision'][i]\n",
    "        mean_recall = grid_search.cv_results_['mean_test_recall'][i]\n",
    "        mean_fit_time = grid_search.cv_results_['mean_fit_time'][i]\n",
    "        mean_score_time = grid_search.cv_results_['mean_score_time'][i]\n",
    "        total_training_time = mean_fit_time + mean_score_time\n",
    "\n",
    "        split_scores = {f'split{split_idx}_test_accuracy': grid_search.cv_results_[f'split{split_idx}_test_accuracy'][i] for split_idx in range(num_splits)}\n",
    "        split_precisions = {f'split{split_idx}_test_precision': grid_search.cv_results_[f'split{split_idx}_test_precision'][i] for split_idx in range(num_splits)}\n",
    "        split_recalls = {f'split{split_idx}_test_recall': grid_search.cv_results_[f'split{split_idx}_test_recall'][i] for split_idx in range(num_splits)}\n",
    "\n",
    "        result = {\n",
    "            'model': model_name,\n",
    "            'params': params,\n",
    "            'mean_test_accuracy': mean_accuracy,\n",
    "            'mean_test_precision': mean_precision,\n",
    "            'mean_test_recall': mean_recall,\n",
    "            'mean_fit_time': mean_fit_time,\n",
    "            'mean_score_time': mean_score_time,\n",
    "            'total_training_time': total_training_time\n",
    "        }\n",
    "        result.update(split_scores)\n",
    "        result.update(split_precisions)\n",
    "        result.update(split_recalls)\n",
    "\n",
    "        results.append(result)\n",
    "\n",
    "    print(f\"Best parameters for {model_name}: {grid_search.best_params_}\")\n",
    "    print(f\"Best cross-validation accuracy for {model_name}: {grid_search.best_score_}\")\n",
    "    \n",
    "    best_params = grid_search.best_params_\n",
    "    model_filename = f'TrainnedModel/{create_filename_from_params(model_name, best_params)}'\n",
    "    joblib.dump(grid_search.best_estimator_, model_filename)\n",
    "    print(f\"Model saved as {model_filename}\")\n",
    "\n",
    "results_df = pd.DataFrame(results)\n",
    "results_df.to_excel('grid_search_results_ALL_KNN_RF_XG.xlsx', index=False)\n",
    "\n",
    "elapsed_time = time.time() - start_time\n",
    "print(f\"Elapsed time: {elapsed_time} seconds\")\n",
    "print('Locals Testing Session')"
   ]
  },
  {
   "cell_type": "code",
   "execution_count": 12,
   "id": "19cba097-7325-4f97-baa9-d31155879c2c",
   "metadata": {},
   "outputs": [
    {
     "name": "stdout",
     "output_type": "stream",
     "text": [
      "Test accuracy for KNN: 0.8898377455166524\n",
      "Test precision for KNN: 0.8928204534387953\n",
      "Test recall for KNN: 0.8872826532404425\n",
      "Test accuracy for RandomForest: 0.8975234842015372\n",
      "Test precision for RandomForest: 0.8993285813917751\n",
      "Test recall for RandomForest: 0.8955506117908787\n",
      "Test accuracy for XGBoost: 0.9052092228864219\n",
      "Test precision for XGBoost: 0.9054878227828773\n",
      "Test recall for XGBoost: 0.9042225279550378\n"
     ]
    },
    {
     "data": {
      "image/png": "[encoded data removed]",
      "text/plain": [
       "<Figure size 1800x600 with 3 Axes>"
      ]
     },
     "metadata": {},
     "output_type": "display_data"
    },
    {
     "name": "stdout",
     "output_type": "stream",
     "text": [
      "Elapsed time: 0.7874405384063721 seconds\n",
      "Locals Testing Session\n"
     ]
    }
   ],
   "source": [
    "start_time = time.time()\n",
    "test_results = []\n",
    "for model_name, best_model in best_models.items():\n",
    "    y_pred = best_model.predict(X_test)\n",
    "    test_accuracy = accuracy_score(y_test, y_pred)\n",
    "    test_precision = precision_score(y_test, y_pred, average='macro')\n",
    "    test_recall = recall_score(y_test, y_pred, average='macro')\n",
    "    \n",
    "    test_result = {\n",
    "        'model': model_name,\n",
    "        'test_accuracy': test_accuracy,\n",
    "        'test_precision': test_precision,\n",
    "        'test_recall': test_recall\n",
    "    }\n",
    "    test_results.append(test_result)\n",
    "    print(f\"Test accuracy for {model_name}: {test_accuracy}\")\n",
    "    print(f\"Test precision for {model_name}: {test_precision}\")\n",
    "    print(f\"Test recall for {model_name}: {test_recall}\")\n",
    "\n",
    "test_results_df = pd.DataFrame(test_results)\n",
    "test_results_df.to_excel('TestResult/test_results_All_KNN_RF_XG.xlsx', index=False)\n",
    "\n",
    "fig, axes = plt.subplots(1, 3, figsize=(18, 6))\n",
    "\n",
    "axes[0].bar(test_results_df['model'], test_results_df['test_accuracy'])\n",
    "axes[0].set_title('Test Accuracy')\n",
    "axes[0].set_xlabel('Model')\n",
    "axes[0].set_ylabel('Accuracy')\n",
    "\n",
    "axes[1].bar(test_results_df['model'], test_results_df['test_precision'])\n",
    "axes[1].set_title('Test Precision')\n",
    "axes[1].set_xlabel('Model')\n",
    "axes[1].set_ylabel('Precision')\n",
    "\n",
    "axes[2].bar(test_results_df['model'], test_results_df['test_recall'])\n",
    "axes[2].set_title('Test Recall')\n",
    "axes[2].set_xlabel('Model')\n",
    "axes[2].set_ylabel('Recall')\n",
    "\n",
    "\n",
    "current_datetime = datetime.now().strftime('%Y%m%d_%H%M%S')\n",
    "plt.tight_layout()\n",
    "plt.savefig(f'TestResult/test_results_plot_KNN_RF_XG{current_datetime}.png')  \n",
    "plt.show()\n",
    "\n",
    "elapsed_time = time.time() - start_time\n",
    "print(f\"Elapsed time: {elapsed_time} seconds\")\n",
    "print('Locals Testing Session')"
   ]
  },
  {
   "cell_type": "code",
   "execution_count": null,
   "id": "a18f5cdd-13ee-4fec-abb6-ce9fbe97c3d2",
   "metadata": {},
   "outputs": [],
   "source": []
  }
 ],
 "metadata": {
  "kernelspec": {
   "display_name": "Python 3 (ipykernel)",
   "language": "python",
   "name": "python3"
  },
  "language_info": {
   "codemirror_mode": {
    "name": "ipython",
    "version": 3
   },
   "file_extension": ".py",
   "mimetype": "text/x-python",
   "name": "python",
   "nbconvert_exporter": "python",
   "pygments_lexer": "ipython3",
   "version": "3.12.4"
  }
 },
 "nbformat": 4,
 "nbformat_minor": 5
}
